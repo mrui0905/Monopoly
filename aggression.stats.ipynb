{
 "cells": [
  {
   "attachments": {},
   "cell_type": "markdown",
   "metadata": {},
   "source": [
    "In this notebook, we're going to simulate different agression levels against each other to determine roughly what optimal strategy in monopoly entails. While many parts of monopoly can be reduced to probability, and others are neccessary aspects of the game (such as buying as many properties as possible), the only remaining room for strategy comes through aggression in trades and buying houses/hotels.\n",
    "\n",
    "Under perfect play, trades are highly unlikely to occur. As monopoly is a zero-sum game, every trade adjusts the expected win rate of all parties involved. Thus, a trade is likely to only be completed if it only negatively effects a third party's expected win rate. A mock trading method is coded in our simulation to emulate basic trade logic.\n",
    "\n",
    "We also create three generalizations of play style: Aggressive, Conservative, and Default. These styles directly control what percentage of a player's account balance they are willing to spend on trades and building houses/hotels every turn."
   ]
  },
  {
   "cell_type": "code",
   "execution_count": 1,
   "metadata": {},
   "outputs": [],
   "source": [
    "import init\n",
    "import pandas as pd\n",
    "\n",
    "pd.set_option('display.max_columns', 500)"
   ]
  },
  {
   "attachments": {},
   "cell_type": "markdown",
   "metadata": {},
   "source": [
    "We can simulate two-player games representing every possible combination of the three play styles. The following matrix represents the win percentages of a player with the play style represented by the row against a player with the play style represented by the column."
   ]
  },
  {
   "cell_type": "code",
   "execution_count": 2,
   "metadata": {},
   "outputs": [
    {
     "data": {
      "text/html": [
       "<div>\n",
       "<style scoped>\n",
       "    .dataframe tbody tr th:only-of-type {\n",
       "        vertical-align: middle;\n",
       "    }\n",
       "\n",
       "    .dataframe tbody tr th {\n",
       "        vertical-align: top;\n",
       "    }\n",
       "\n",
       "    .dataframe thead th {\n",
       "        text-align: right;\n",
       "    }\n",
       "</style>\n",
       "<table border=\"1\" class=\"dataframe\">\n",
       "  <thead>\n",
       "    <tr style=\"text-align: right;\">\n",
       "      <th></th>\n",
       "      <th>Aggressive</th>\n",
       "      <th>Conservative</th>\n",
       "      <th>Default</th>\n",
       "    </tr>\n",
       "  </thead>\n",
       "  <tbody>\n",
       "    <tr>\n",
       "      <th>Aggressive</th>\n",
       "      <td>50.25</td>\n",
       "      <td>30.31</td>\n",
       "      <td>37.17</td>\n",
       "    </tr>\n",
       "    <tr>\n",
       "      <th>Conservative</th>\n",
       "      <td>70.26</td>\n",
       "      <td>49.09</td>\n",
       "      <td>65.74</td>\n",
       "    </tr>\n",
       "    <tr>\n",
       "      <th>Default</th>\n",
       "      <td>62.68</td>\n",
       "      <td>34.58</td>\n",
       "      <td>49.54</td>\n",
       "    </tr>\n",
       "  </tbody>\n",
       "</table>\n",
       "</div>"
      ],
      "text/plain": [
       "              Aggressive  Conservative  Default\n",
       "Aggressive         50.25         30.31    37.17\n",
       "Conservative       70.26         49.09    65.74\n",
       "Default            62.68         34.58    49.54"
      ]
     },
     "execution_count": 2,
     "metadata": {},
     "output_type": "execute_result"
    }
   ],
   "source": [
    "cols = ['Aggressive', 'Conservative', 'Default']\n",
    "\n",
    "res = []\n",
    "\n",
    "for i in range(3):\n",
    "    tmp = []\n",
    "    for j in range(3):\n",
    "        d = {1:0, 2:0}\n",
    "        for _ in range(10000):\n",
    "            winner = init.main(250, 0, [cols[i], cols[j]])\n",
    "            d[winner] += 1\n",
    "\n",
    "        percentage = d[1]/100\n",
    "        tmp.append(percentage)\n",
    "    res.append(tmp.copy())\n",
    "\n",
    "matrix = pd.DataFrame(res, columns = ['Aggressive', 'Conservative', \"Default\"], index = ['Aggressive', 'Conservative', \"Default\"])\n",
    "\n",
    "matrix"
   ]
  },
  {
   "attachments": {},
   "cell_type": "markdown",
   "metadata": {},
   "source": [
    "At first glance, it makes sense that the diagonal running from the top left to bottom right are roughly 50%, as players are pitting identical strategy against each other.\n",
    "\n",
    "It may seem that any deviation from an expected 50% win rate can be attributed to variance. However, in these simulations (each cell is the product of 10000 games), a couple percent may represent a significant advantage.\n",
    "\n",
    "This matrix demonstrates that a conservative play style generates the highest expected win rate. This insight is rather surprising, as our study into the expected ROI of various properties in property_stats.ipynb found that normal properties with many houses/hotels have strong returns on investment. Thus, one may have assumed that an aggressive strategy would be optimal.\n",
    "\n",
    "We can continue by simulating a game pitting three players each representing different strategies."
   ]
  },
  {
   "cell_type": "markdown",
   "metadata": {},
   "source": []
  },
  {
   "cell_type": "code",
   "execution_count": 3,
   "metadata": {},
   "outputs": [
    {
     "data": {
      "text/html": [
       "<div>\n",
       "<style scoped>\n",
       "    .dataframe tbody tr th:only-of-type {\n",
       "        vertical-align: middle;\n",
       "    }\n",
       "\n",
       "    .dataframe tbody tr th {\n",
       "        vertical-align: top;\n",
       "    }\n",
       "\n",
       "    .dataframe thead th {\n",
       "        text-align: right;\n",
       "    }\n",
       "</style>\n",
       "<table border=\"1\" class=\"dataframe\">\n",
       "  <thead>\n",
       "    <tr style=\"text-align: right;\">\n",
       "      <th></th>\n",
       "      <th>Aggressive</th>\n",
       "      <th>Conservative</th>\n",
       "      <th>Default</th>\n",
       "    </tr>\n",
       "  </thead>\n",
       "  <tbody>\n",
       "    <tr>\n",
       "      <th>Win Percentage</th>\n",
       "      <td>29.29</td>\n",
       "      <td>38.73</td>\n",
       "      <td>31.98</td>\n",
       "    </tr>\n",
       "  </tbody>\n",
       "</table>\n",
       "</div>"
      ],
      "text/plain": [
       "                Aggressive  Conservative  Default\n",
       "Win Percentage       29.29         38.73    31.98"
      ]
     },
     "execution_count": 3,
     "metadata": {},
     "output_type": "execute_result"
    }
   ],
   "source": [
    "d = {1:0, 2:0, 3:0}\n",
    "\n",
    "for _ in range(10000):\n",
    "    winner = init.main(250, 0, ['Aggressive', 'Conservative', 'Default'])\n",
    "    d[winner] += 1\n",
    "\n",
    "for k, v in d.items():\n",
    "    d[k] = v/100\n",
    "\n",
    "head_to_head = pd.DataFrame(d, index = [0])\n",
    "head_to_head.columns = ['Aggressive', 'Conservative', 'Default']\n",
    "head_to_head.index = [\"Win Percentage\"]\n",
    "head_to_head"
   ]
  },
  {
   "attachments": {},
   "cell_type": "markdown",
   "metadata": {},
   "source": [
    "As we'd expect, a conservative style once again returns the highest expected win rate. \n",
    "\n",
    "It may seem that any deviation from an expected 50% win rate can be attributed to variance. However, in these simulations (each cell is the product of 10000 games), a couple percent may represent a significant advantage.\n",
    "\n",
    "Our results indicate that while building houses/hotels may accelerate the expected return on investment of properites, they leave the player exposed to needing to liquidate assets to pay off debts.\n",
    "\n",
    "These results are overall surprising, as many \"expert\" level Monopoly CPU's found in online video games are highly aggressive. However, these simulations actually indicate the contrary.\n",
    "\n",
    "One limitation of this study is that only three generalized strategies were used. In our final study, we'll apply a gradient descent onto a \"aggression\" variable to determine the optimal level of aggression."
   ]
  },
  {
   "cell_type": "code",
   "execution_count": 5,
   "metadata": {},
   "outputs": [],
   "source": [
    "matrix.to_csv('data/aggresion_matrix.csv')\n",
    "head_to_head.to_csv('data/aggression_head_to_head.csv')"
   ]
  },
  {
   "attachments": {},
   "cell_type": "markdown",
   "metadata": {},
   "source": [
    "This data can be viewed under 'data/aggresion_matrix.csv' and 'data/aggression_head_to_head.csv'."
   ]
  }
 ],
 "metadata": {
  "kernelspec": {
   "display_name": "Python 3",
   "language": "python",
   "name": "python3"
  },
  "language_info": {
   "codemirror_mode": {
    "name": "ipython",
    "version": 3
   },
   "file_extension": ".py",
   "mimetype": "text/x-python",
   "name": "python",
   "nbconvert_exporter": "python",
   "pygments_lexer": "ipython3",
   "version": "3.11.3"
  },
  "orig_nbformat": 4
 },
 "nbformat": 4,
 "nbformat_minor": 2
}
