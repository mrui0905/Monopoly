{
 "cells": [
  {
   "cell_type": "code",
   "execution_count": 1,
   "metadata": {},
   "outputs": [],
   "source": [
    "import init\n",
    "import pandas as pd\n",
    "\n",
    "pd.set_option('display.max_columns', 500)"
   ]
  },
  {
   "cell_type": "code",
   "execution_count": 3,
   "metadata": {},
   "outputs": [
    {
     "data": {
      "text/html": [
       "<div>\n",
       "<style scoped>\n",
       "    .dataframe tbody tr th:only-of-type {\n",
       "        vertical-align: middle;\n",
       "    }\n",
       "\n",
       "    .dataframe tbody tr th {\n",
       "        vertical-align: top;\n",
       "    }\n",
       "\n",
       "    .dataframe thead th {\n",
       "        text-align: right;\n",
       "    }\n",
       "</style>\n",
       "<table border=\"1\" class=\"dataframe\">\n",
       "  <thead>\n",
       "    <tr style=\"text-align: right;\">\n",
       "      <th></th>\n",
       "      <th>Aggressive</th>\n",
       "      <th>Conservative</th>\n",
       "      <th>Default</th>\n",
       "    </tr>\n",
       "  </thead>\n",
       "  <tbody>\n",
       "    <tr>\n",
       "      <th>Aggressive</th>\n",
       "      <td>0.4961</td>\n",
       "      <td>0.4695</td>\n",
       "      <td>0.4962</td>\n",
       "    </tr>\n",
       "    <tr>\n",
       "      <th>Conservative</th>\n",
       "      <td>0.5221</td>\n",
       "      <td>0.4982</td>\n",
       "      <td>0.5136</td>\n",
       "    </tr>\n",
       "    <tr>\n",
       "      <th>Default</th>\n",
       "      <td>0.5117</td>\n",
       "      <td>0.4849</td>\n",
       "      <td>0.4937</td>\n",
       "    </tr>\n",
       "  </tbody>\n",
       "</table>\n",
       "</div>"
      ],
      "text/plain": [
       "              Aggressive  Conservative  Default\n",
       "Aggressive        0.4961        0.4695   0.4962\n",
       "Conservative      0.5221        0.4982   0.5136\n",
       "Default           0.5117        0.4849   0.4937"
      ]
     },
     "execution_count": 3,
     "metadata": {},
     "output_type": "execute_result"
    }
   ],
   "source": [
    "cols = ['Aggressive', 'Conservative', 'Default']\n",
    "\n",
    "res = []\n",
    "\n",
    "for i in range(3):\n",
    "    tmp = []\n",
    "    for j in range(3):\n",
    "        d = {1:0, 2:0}\n",
    "        for _ in range(10000):\n",
    "            winner = init.main(250, 0, [cols[i], cols[j]])\n",
    "            d[winner] += 1\n",
    "\n",
    "        percentage = d[1]/100\n",
    "        tmp.append(percentage)\n",
    "    res.append(tmp.copy())\n",
    "\n",
    "matrix = pd.DataFrame(res, columns = ['Aggressive', 'Conservative', \"Default\"], index = ['Aggressive', 'Conservative', \"Default\"])\n",
    "\n",
    "matrix\n"
   ]
  },
  {
   "cell_type": "code",
   "execution_count": 10,
   "metadata": {},
   "outputs": [],
   "source": [
    "d = {1:0, 2:0, 3:0}\n",
    "\n",
    "for _ in range(10000):\n",
    "    winner = init.main(250, 0, ['Aggressive', 'Conservative', 'Default'])\n",
    "    d[winner] += 1\n",
    "\n",
    "for k, v in d.items():\n",
    "    d[k] = v/100\n"
   ]
  },
  {
   "cell_type": "code",
   "execution_count": 15,
   "metadata": {},
   "outputs": [
    {
     "data": {
      "text/html": [
       "<div>\n",
       "<style scoped>\n",
       "    .dataframe tbody tr th:only-of-type {\n",
       "        vertical-align: middle;\n",
       "    }\n",
       "\n",
       "    .dataframe tbody tr th {\n",
       "        vertical-align: top;\n",
       "    }\n",
       "\n",
       "    .dataframe thead th {\n",
       "        text-align: right;\n",
       "    }\n",
       "</style>\n",
       "<table border=\"1\" class=\"dataframe\">\n",
       "  <thead>\n",
       "    <tr style=\"text-align: right;\">\n",
       "      <th></th>\n",
       "      <th>Aggressive</th>\n",
       "      <th>Conservative</th>\n",
       "      <th>Default</th>\n",
       "    </tr>\n",
       "  </thead>\n",
       "  <tbody>\n",
       "    <tr>\n",
       "      <th>Win Percentage</th>\n",
       "      <td>32.64</td>\n",
       "      <td>34.27</td>\n",
       "      <td>33.09</td>\n",
       "    </tr>\n",
       "  </tbody>\n",
       "</table>\n",
       "</div>"
      ],
      "text/plain": [
       "                Aggressive  Conservative  Default\n",
       "Win Percentage       32.64         34.27    33.09"
      ]
     },
     "execution_count": 15,
     "metadata": {},
     "output_type": "execute_result"
    }
   ],
   "source": [
    "head_to_head = pd.DataFrame(d, index = [0])\n",
    "head_to_head.columns = ['Aggressive', 'Conservative', 'Default']\n",
    "head_to_head.index = [\"Win Percentage\"]\n",
    "head_to_head"
   ]
  },
  {
   "attachments": {},
   "cell_type": "markdown",
   "metadata": {},
   "source": [
    "Our results indicate that while building houses/hotels may accelerate the expected return on investment of properites, they leave the player exposed to needing to liquidate assets to pay off debts."
   ]
  }
 ],
 "metadata": {
  "kernelspec": {
   "display_name": "Python 3",
   "language": "python",
   "name": "python3"
  },
  "language_info": {
   "codemirror_mode": {
    "name": "ipython",
    "version": 3
   },
   "file_extension": ".py",
   "mimetype": "text/x-python",
   "name": "python",
   "nbconvert_exporter": "python",
   "pygments_lexer": "ipython3",
   "version": "3.11.4"
  },
  "orig_nbformat": 4
 },
 "nbformat": 4,
 "nbformat_minor": 2
}
